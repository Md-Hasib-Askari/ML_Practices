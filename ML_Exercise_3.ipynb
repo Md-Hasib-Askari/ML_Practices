{
 "cells": [
  {
   "metadata": {},
   "cell_type": "markdown",
   "source": [
    "# Exercise 3: k-Nearest Neighbors (k-NN)\n",
    "\n",
    "✅ Part 1: Implement k-NN from scratch (using only NumPy).\n",
    "\n",
    "✅ Part 2: Do it with scikit-learn for comparison.\n"
   ],
   "id": "940fd04f82954aa7"
  },
  {
   "metadata": {},
   "cell_type": "markdown",
   "source": [
    "### ✅ Part 1: Implement k-NN from scratch (using only NumPy).\n",
    "---"
   ],
   "id": "218b79d511cbb3df"
  },
  {
   "metadata": {},
   "cell_type": "markdown",
   "source": "### 1. Import Libraries",
   "id": "cc0933cff1845a79"
  },
  {
   "metadata": {
    "ExecuteTime": {
     "end_time": "2025-05-05T16:04:19.322770Z",
     "start_time": "2025-05-05T16:04:18.237985Z"
    }
   },
   "cell_type": "code",
   "source": [
    "from sklearn.datasets import load_digits\n",
    "from sklearn.model_selection import train_test_split\n",
    "import numpy as np"
   ],
   "id": "b475434c3e17df27",
   "outputs": [],
   "execution_count": 2
  },
  {
   "metadata": {},
   "cell_type": "markdown",
   "source": "### 2. Load MNIST Subset (100 samples for simplicity)",
   "id": "4ab587a659a2524c"
  },
  {
   "metadata": {
    "ExecuteTime": {
     "end_time": "2025-05-05T16:06:26.445267Z",
     "start_time": "2025-05-05T16:06:26.426079Z"
    }
   },
   "cell_type": "code",
   "source": [
    "digits = load_digits()\n",
    "X, y = digits.data, digits.target\n",
    "\n",
    "# Select only 100 samples\n",
    "X, y = X[:100], y[:100]\n",
    "X_train, X_test, y_train, y_test = train_test_split(X, y, test_size=0.2, random_state=42)\n",
    "print(f\"X_train shape: {X_train.shape}, y_train shape: {y_train.shape}\")\n",
    "print(f\"X_test shape: {X_test.shape}, y_test shape: {y_test.shape}\")"
   ],
   "id": "e5baeeb95fefe0b1",
   "outputs": [
    {
     "name": "stdout",
     "output_type": "stream",
     "text": [
      "X_train shape: (80, 64), y_train shape: (80,)\n",
      "X_test shape: (20, 64), y_test shape: (20,)\n"
     ]
    }
   ],
   "execution_count": 12
  },
  {
   "metadata": {},
   "cell_type": "markdown",
   "source": "### 3. Define k-NN from Scratch",
   "id": "f53a536ca7c0220c"
  },
  {
   "metadata": {
    "ExecuteTime": {
     "end_time": "2025-05-05T15:37:38.373345Z",
     "start_time": "2025-05-05T15:37:38.365977Z"
    }
   },
   "cell_type": "code",
   "source": [
    "def euclidean_distance(a, b):\n",
    "    \"\"\"\n",
    "    Calculate the Euclidean distance between two points.\n",
    "    \n",
    "    distance = sqrt((x1 - x2)^2 + (y1 - y2)^2)\n",
    "    \"\"\"\n",
    "    return np.sqrt(np.sum((a - b) ** 2))\n",
    "\n",
    "def knn_predict(X_train, y_train, X_test, k=3):\n",
    "    \"\"\"\n",
    "    Predict the class labels for the test set using k-NN.\n",
    "    \n",
    "    X_train: Training data\n",
    "    y_train: Training labels\n",
    "    X_test: Test data\n",
    "    k: Number of neighbors to consider\n",
    "    \"\"\"\n",
    "    preds = []\n",
    "    \n",
    "    for test_point in X_test:\n",
    "        # Calculate distances from the test point to all training points\n",
    "        distances = np.array([euclidean_distance(test_point, train_point) for train_point in X_train])\n",
    "        \n",
    "        # Get the indices of the k nearest neighbors\n",
    "        k_indices = np.argsort(distances)[:k]\n",
    "        \n",
    "        # Get the labels of the k nearest neighbors\n",
    "        k_nearest_labels = [y_train[i] for i in k_indices]\n",
    "        \n",
    "        # Predict the most common label among the neighbors\n",
    "        most_common = np.bincount(k_nearest_labels).argmax()\n",
    "        preds.append(most_common)\n",
    "    \n",
    "    return np.array(preds)"
   ],
   "id": "bba78d6a40b0d8f4",
   "outputs": [],
   "execution_count": 4
  },
  {
   "metadata": {},
   "cell_type": "markdown",
   "source": "### 4. Run k-NN on Test Set",
   "id": "985b6090270ba54e"
  },
  {
   "metadata": {
    "ExecuteTime": {
     "end_time": "2025-05-05T15:37:40.469167Z",
     "start_time": "2025-05-05T15:37:40.463995Z"
    }
   },
   "cell_type": "code",
   "source": [
    "y_pred = [knn_predict(X_train, y_train, X_test, k=3) for _ in range(10)]\n",
    "accuracy = np.mean(np.array(y_pred) == y_test)\n",
    "print(f\"Accuracy: {accuracy * 100:.2f}%\")"
   ],
   "id": "24499675ccca7609",
   "outputs": [],
   "execution_count": 5
  },
  {
   "metadata": {},
   "cell_type": "markdown",
   "source": [
    "### ✅ Part 2: k-NN with scikit-learn\n",
    "---"
   ],
   "id": "22ed3b60dc438bd"
  },
  {
   "metadata": {},
   "cell_type": "markdown",
   "source": "### 1. Use the Same Data",
   "id": "8da0f863cc8f3b8e"
  },
  {
   "metadata": {
    "ExecuteTime": {
     "end_time": "2025-05-05T15:38:27.516168Z",
     "start_time": "2025-05-05T15:38:27.511857Z"
    }
   },
   "cell_type": "code",
   "source": [
    "from sklearn.neighbors import KNeighborsClassifier\n",
    "\n",
    "knn = KNeighborsClassifier(n_neighbors=3)\n",
    "knn.fit(X_train, y_train)\n",
    "y_pred_sklearn = knn.predict(X_test)\n",
    "\n",
    "accuracy_sklearn = np.mean(y_pred_sklearn == y_test)\n",
    "print(\"k-NN Accuracy (scikit-learn):\", accuracy_sklearn)"
   ],
   "id": "7e83692421c50453",
   "outputs": [],
   "execution_count": 6
  }
 ],
 "metadata": {
  "kernelspec": {
   "display_name": "Python 3",
   "language": "python",
   "name": "python3"
  },
  "language_info": {
   "codemirror_mode": {
    "name": "ipython",
    "version": 2
   },
   "file_extension": ".py",
   "mimetype": "text/x-python",
   "name": "python",
   "nbconvert_exporter": "python",
   "pygments_lexer": "ipython2",
   "version": "2.7.6"
  }
 },
 "nbformat": 4,
 "nbformat_minor": 5
}
