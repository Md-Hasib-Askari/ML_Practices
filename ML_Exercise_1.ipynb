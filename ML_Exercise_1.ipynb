{
 "cells": [
  {
   "metadata": {},
   "cell_type": "markdown",
   "source": [
    "# Exercise 1: Linear Regression from Scratch\n",
    "\n",
    "**Goal:**\n",
    "Predict house prices based on square footage using only NumPy (no scikit-learn).\n"
   ],
   "id": "940fd04f82954aa7"
  },
  {
   "metadata": {},
   "cell_type": "markdown",
   "source": "### 1. Import Libraries",
   "id": "cc0933cff1845a79"
  },
  {
   "metadata": {
    "ExecuteTime": {
     "end_time": "2025-05-05T15:16:53.327063Z",
     "start_time": "2025-05-05T15:16:51.235516Z"
    }
   },
   "cell_type": "code",
   "source": [
    "import numpy as np\n",
    "import matplotlib.pyplot as plt"
   ],
   "id": "b475434c3e17df27",
   "outputs": [],
   "execution_count": 1
  },
  {
   "metadata": {},
   "cell_type": "markdown",
   "source": "### 2. Create Sample Dataset",
   "id": "4ab587a659a2524c"
  },
  {
   "metadata": {
    "ExecuteTime": {
     "end_time": "2025-05-05T15:21:24.899927Z",
     "start_time": "2025-05-05T15:21:24.894955Z"
    }
   },
   "cell_type": "code",
   "source": [
    "# Input (square footage)\n",
    "X = np.array([600, 800, 1000, 1200, 1400])\n",
    "\n",
    "# Output (house price in $1000s)\n",
    "y = np.array([150, 200, 250, 300, 350])"
   ],
   "id": "e5baeeb95fefe0b1",
   "outputs": [],
   "execution_count": 2
  },
  {
   "metadata": {},
   "cell_type": "markdown",
   "source": "### 3. Normalize the Data (Optional but good practice)",
   "id": "f53a536ca7c0220c"
  },
  {
   "metadata": {
    "ExecuteTime": {
     "end_time": "2025-05-05T15:22:05.087712Z",
     "start_time": "2025-05-05T15:22:05.082710Z"
    }
   },
   "cell_type": "code",
   "source": [
    "X_mean = X.mean()\n",
    "X_std = X.std()\n",
    "X_norm = (X - X_mean) / X_std"
   ],
   "id": "bba78d6a40b0d8f4",
   "outputs": [],
   "execution_count": 4
  },
  {
   "metadata": {},
   "cell_type": "markdown",
   "source": "### 4. Add Bias Term (intercept)",
   "id": "985b6090270ba54e"
  },
  {
   "metadata": {
    "ExecuteTime": {
     "end_time": "2025-05-05T15:25:14.919463Z",
     "start_time": "2025-05-05T15:25:14.914458Z"
    }
   },
   "cell_type": "code",
   "source": [
    "\"\"\"\n",
    "    np.c_ - is a convenient shortcut in NumPy for column-wise concatenation of arrays. It is especially useful when combining 1D arrays or reshaping scalars/lists into columns.\n",
    "\n",
    "    a = np.array([1, 2, 3])\n",
    "    b = np.array([4, 5, 6])\n",
    "\n",
    "    result = np.c_[a, b]\n",
    "\n",
    "    result will be: [[1 4]\n",
    "                     [2 5]\n",
    "                     [3 6]]\n",
    "\"\"\"\n",
    "\n",
    "X_b = np.c_[np.ones((X_norm.shape[0], 1)), X_norm]  # Add column of ones\n",
    "\n",
    "print(\"X with bias term:\\n\", X_b)"
   ],
   "id": "24499675ccca7609",
   "outputs": [
    {
     "name": "stdout",
     "output_type": "stream",
     "text": [
      "X with bias term:\n",
      " [[ 1.         -1.41421356]\n",
      " [ 1.         -0.70710678]\n",
      " [ 1.          0.        ]\n",
      " [ 1.          0.70710678]\n",
      " [ 1.          1.41421356]]\n"
     ]
    }
   ],
   "execution_count": 11
  },
  {
   "metadata": {},
   "cell_type": "markdown",
   "source": "### 5. Initialize Parameters",
   "id": "8da0f863cc8f3b8e"
  },
  {
   "metadata": {
    "ExecuteTime": {
     "end_time": "2025-05-05T15:23:01.688810Z",
     "start_time": "2025-05-05T15:23:01.683716Z"
    }
   },
   "cell_type": "code",
   "source": [
    "theta = np.zeros(2)  # [bias, weight]\n",
    "learning_rate = 0.1\n",
    "epochs = 1000\n",
    "m = len(X_b)"
   ],
   "id": "7e83692421c50453",
   "outputs": [],
   "execution_count": 6
  },
  {
   "metadata": {},
   "cell_type": "markdown",
   "source": "### 6. Gradient Descent Loop",
   "id": "eb88c7fa21c85279"
  },
  {
   "metadata": {
    "ExecuteTime": {
     "end_time": "2025-05-05T15:23:47.247626Z",
     "start_time": "2025-05-05T15:23:47.234332Z"
    }
   },
   "cell_type": "code",
   "source": [
    "for i in range(epochs):\n",
    "    # Compute predictions\n",
    "    y_pred = X_b.dot(theta)  # y = bias*1 + weight*x\n",
    "    y_diff = y_pred - y  # Difference between predicted and actual\n",
    "    gradients = (2/m) * X_b.T.dot(y_diff)  # Gradient calculation\n",
    "    theta -= learning_rate * gradients"
   ],
   "id": "3272fa178ec857cf",
   "outputs": [],
   "execution_count": 7
  },
  {
   "metadata": {},
   "cell_type": "markdown",
   "source": "### 7. Print Results",
   "id": "eb83b071001a57bd"
  },
  {
   "metadata": {
    "ExecuteTime": {
     "end_time": "2025-05-05T15:26:16.318975Z",
     "start_time": "2025-05-05T15:26:16.313983Z"
    }
   },
   "cell_type": "code",
   "source": [
    "print(\"Estimated parameters (theta):\", theta)\n",
    "print(\"Estimated intercept (bias):\", theta[0])\n",
    "print(\"Estimated weight (slope):\", theta[1])"
   ],
   "id": "bcf7b72fcfcd4514",
   "outputs": [
    {
     "name": "stdout",
     "output_type": "stream",
     "text": [
      "Estimated parameters (theta): [250.          70.71067812]\n",
      "Estimated intercept (bias): 249.99999999999994\n",
      "Estimated weight (slope): 70.71067811865474\n"
     ]
    }
   ],
   "execution_count": 12
  },
  {
   "metadata": {},
   "cell_type": "markdown",
   "source": "### 8. Predict and Visualize",
   "id": "d47587d81ff5c01b"
  },
  {
   "metadata": {
    "ExecuteTime": {
     "end_time": "2025-05-05T15:28:47.648547Z",
     "start_time": "2025-05-05T15:28:47.510837Z"
    }
   },
   "cell_type": "code",
   "source": [
    "y_pred = X_b.dot(theta) # y = bias*1 + weight*x\n",
    "\n",
    "plt.scatter(X, y, label=\"Actual\", color=\"blue\")\n",
    "plt.plot(X, y_pred, label=\"Predicted\", color=\"red\")\n",
    "plt.xlabel(\"Square Footage\")\n",
    "plt.ylabel(\"Price ($1000s)\")\n",
    "plt.title(\"Linear Regression with Gradient Descent\")\n",
    "plt.legend()\n",
    "plt.show()"
   ],
   "id": "f6c610b5706c9fb9",
   "outputs": [
    {
     "data": {
      "text/plain": [
       "<Figure size 640x480 with 1 Axes>"
      ],
      "image/png": "[encoded data removed]"
     },
     "metadata": {},
     "output_type": "display_data"
    }
   ],
   "execution_count": 16
  },
  {
   "metadata": {},
   "cell_type": "markdown",
   "source": "### 9. Evaluate",
   "id": "a0f5b20d38d76c"
  },
  {
   "metadata": {
    "ExecuteTime": {
     "end_time": "2025-05-05T15:31:59.830763Z",
     "start_time": "2025-05-05T15:31:59.824748Z"
    }
   },
   "cell_type": "code",
   "source": [
    "# Calculate Mean Squared Error\n",
    "mse = np.mean((y - y_pred) ** 2)  # sqrt((yi - y_pred_i)^2)\n",
    "\n",
    "print(\"Mean Squared Error:\", mse)"
   ],
   "id": "4bf51c1dec422469",
   "outputs": [
    {
     "name": "stdout",
     "output_type": "stream",
     "text": [
      "Mean Squared Error: 4.685202688288633e-27\n"
     ]
    }
   ],
   "execution_count": 19
  }
 ],
 "metadata": {
  "kernelspec": {
   "display_name": "Python 3",
   "language": "python",
   "name": "python3"
  },
  "language_info": {
   "codemirror_mode": {
    "name": "ipython",
    "version": 2
   },
   "file_extension": ".py",
   "mimetype": "text/x-python",
   "name": "python",
   "nbconvert_exporter": "python",
   "pygments_lexer": "ipython2",
   "version": "2.7.6"
  }
 },
 "nbformat": 4,
 "nbformat_minor": 5
}
